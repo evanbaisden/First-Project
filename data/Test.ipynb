{
 "cells": [
  {
   "cell_type": "code",
   "execution_count": 39,
   "metadata": {},
   "outputs": [],
   "source": [
    "import pandas as pd\n",
    "import yfinance as yf\n",
    "from datetime import datetime\n",
    "from fredapi import Fred\n",
    "from plotly.subplots import make_subplots\n",
    "import plotly.graph_objs as go\n",
    "\n",
    "# FRED API Key\n",
    "fred_api_key = 'ecc0c4e92352e1eff5869528238a3bff'\n",
    "\n",
    "def yfinance_data(ticker, start, end):\n",
    "    try:\n",
    "        return yf.download(ticker, start=start, end=end)\n",
    "    except Exception as e:\n",
    "        print(f\"Error fetching data for {ticker}: {e}\")\n",
    "        return pd.DataFrame()  # Return an empty DataFrame in case of error\n",
    "\n",
    "def fred_data(series_id):\n",
    "    fred = Fred(api_key=fred_api_key)\n",
    "    try:\n",
    "        data = fred.get_series(series_id)\n",
    "        return data\n",
    "    except Exception as e:\n",
    "        print(f\"Error fetching data from FRED: {e}\")\n",
    "        return pd.Series()  # Return an empty Series in case of error"
   ]
  },
  {
   "cell_type": "code",
   "execution_count": 40,
   "metadata": {},
   "outputs": [
    {
     "name": "stderr",
     "output_type": "stream",
     "text": [
      "DEBUG:yfinance:Entering download()\n",
      "DEBUG:yfinance:Disabling multithreading because DEBUG logging enabled\n",
      "DEBUG:yfinance: Entering history()\n",
      "DEBUG:peewee:('SELECT \"t1\".\"key\", \"t1\".\"value\" FROM \"_kv\" AS \"t1\" WHERE (\"t1\".\"key\" = ?) LIMIT ? OFFSET ?', ['ETH-USD', 1, 0])\n",
      "DEBUG:yfinance:  Entering history()\n",
      "DEBUG:yfinance:ETH-USD: Yahoo GET parameters: {'period1': '2008-01-01 00:00:00+00:00', 'period2': '2024-08-24 00:00:00+00:00', 'interval': '1d', 'includePrePost': False, 'events': 'div,splits,capitalGains'}\n",
      "DEBUG:yfinance:ETH-USD: yfinance received OHLC data: 2017-11-09 00:00:00 -> 2024-08-23 00:00:00\n",
      "DEBUG:yfinance:ETH-USD: OHLC after cleaning: 2017-11-09 00:00:00+00:00 -> 2024-08-23 00:00:00+00:00\n",
      "DEBUG:yfinance:ETH-USD: OHLC after combining events: 2017-11-09 00:00:00+00:00 -> 2024-08-23 00:00:00+00:00\n",
      "DEBUG:yfinance:ETH-USD: yfinance returning OHLC: 2017-11-09 00:00:00+00:00 -> 2024-08-23 00:00:00+00:00\n",
      "DEBUG:yfinance:  Exiting history()\n",
      "DEBUG:yfinance: Exiting history()\n",
      "DEBUG:yfinance:Exiting download()\n",
      "DEBUG:yfinance:Entering download()\n",
      "DEBUG:yfinance:Disabling multithreading because DEBUG logging enabled\n",
      "DEBUG:yfinance: Entering history()\n",
      "DEBUG:peewee:('SELECT \"t1\".\"key\", \"t1\".\"value\" FROM \"_kv\" AS \"t1\" WHERE (\"t1\".\"key\" = ?) LIMIT ? OFFSET ?', ['BTC-USD', 1, 0])\n",
      "DEBUG:yfinance:  Entering history()\n",
      "DEBUG:yfinance:BTC-USD: Yahoo GET parameters: {'period1': '2008-01-01 00:00:00+00:00', 'period2': '2024-08-24 00:00:00+00:00', 'interval': '1d', 'includePrePost': False, 'events': 'div,splits,capitalGains'}\n",
      "DEBUG:yfinance:BTC-USD: yfinance received OHLC data: 2014-09-17 00:00:00 -> 2024-08-23 00:00:00\n",
      "DEBUG:yfinance:BTC-USD: OHLC after cleaning: 2014-09-17 00:00:00+00:00 -> 2024-08-23 00:00:00+00:00\n",
      "DEBUG:yfinance:BTC-USD: OHLC after combining events: 2014-09-17 00:00:00+00:00 -> 2024-08-23 00:00:00+00:00\n",
      "DEBUG:yfinance:BTC-USD: yfinance returning OHLC: 2014-09-17 00:00:00+00:00 -> 2024-08-23 00:00:00+00:00\n",
      "DEBUG:yfinance:  Exiting history()\n",
      "DEBUG:yfinance: Exiting history()\n",
      "DEBUG:yfinance:Exiting download()\n",
      "DEBUG:yfinance:Entering download()\n",
      "DEBUG:yfinance:Disabling multithreading because DEBUG logging enabled\n",
      "DEBUG:yfinance: Entering history()\n",
      "DEBUG:peewee:('SELECT \"t1\".\"key\", \"t1\".\"value\" FROM \"_kv\" AS \"t1\" WHERE (\"t1\".\"key\" = ?) LIMIT ? OFFSET ?', ['^GSPC', 1, 0])\n",
      "DEBUG:yfinance:  Entering history()\n",
      "DEBUG:yfinance:^GSPC: Yahoo GET parameters: {'period1': '2008-01-01 00:00:00-05:00', 'period2': '2024-08-24 00:00:00-04:00', 'interval': '1d', 'includePrePost': False, 'events': 'div,splits,capitalGains'}\n",
      "DEBUG:yfinance:^GSPC: yfinance received OHLC data: 2008-01-02 14:30:00 -> 2024-08-23 13:30:00\n",
      "DEBUG:yfinance:^GSPC: OHLC after cleaning: 2008-01-02 09:30:00-05:00 -> 2024-08-23 09:30:00-04:00\n",
      "DEBUG:yfinance:^GSPC: OHLC after combining events: 2008-01-02 00:00:00-05:00 -> 2024-08-23 00:00:00-04:00\n",
      "DEBUG:yfinance:^GSPC: yfinance returning OHLC: 2008-01-02 00:00:00-05:00 -> 2024-08-23 00:00:00-04:00\n",
      "DEBUG:yfinance:  Exiting history()\n",
      "DEBUG:yfinance: Exiting history()\n",
      "DEBUG:yfinance:Exiting download()\n"
     ]
    },
    {
     "name": "stdout",
     "output_type": "stream",
     "text": [
      "<class 'pandas.core.frame.DataFrame'>\n",
      "DatetimeIndex: 2480 entries, 2017-11-09 to 2024-08-23\n",
      "Data columns (total 6 columns):\n",
      " #   Column     Non-Null Count  Dtype  \n",
      "---  ------     --------------  -----  \n",
      " 0   Open       2480 non-null   float64\n",
      " 1   High       2480 non-null   float64\n",
      " 2   Low        2480 non-null   float64\n",
      " 3   Close      2480 non-null   float64\n",
      " 4   Adj Close  2480 non-null   float64\n",
      " 5   Volume     2480 non-null   int64  \n",
      "dtypes: float64(5), int64(1)\n",
      "memory usage: 135.6 KB\n",
      "<class 'pandas.core.frame.DataFrame'>\n",
      "DatetimeIndex: 3629 entries, 2014-09-17 to 2024-08-23\n",
      "Data columns (total 6 columns):\n",
      " #   Column     Non-Null Count  Dtype  \n",
      "---  ------     --------------  -----  \n",
      " 0   Open       3629 non-null   float64\n",
      " 1   High       3629 non-null   float64\n",
      " 2   Low        3629 non-null   float64\n",
      " 3   Close      3629 non-null   float64\n",
      " 4   Adj Close  3629 non-null   float64\n",
      " 5   Volume     3629 non-null   int64  \n",
      "dtypes: float64(5), int64(1)\n",
      "memory usage: 198.5 KB\n",
      "<class 'pandas.core.frame.DataFrame'>\n",
      "DatetimeIndex: 4190 entries, 2008-01-02 to 2024-08-23\n",
      "Data columns (total 6 columns):\n",
      " #   Column     Non-Null Count  Dtype  \n",
      "---  ------     --------------  -----  \n",
      " 0   Open       4190 non-null   float64\n",
      " 1   High       4190 non-null   float64\n",
      " 2   Low        4190 non-null   float64\n",
      " 3   Close      4190 non-null   float64\n",
      " 4   Adj Close  4190 non-null   float64\n",
      " 5   Volume     4190 non-null   int64  \n",
      "dtypes: float64(5), int64(1)\n",
      "memory usage: 229.1 KB\n"
     ]
    },
    {
     "data": {
      "text/plain": [
       "1959-01-01    286.6\n",
       "1959-02-01    287.7\n",
       "1959-03-01    289.2\n",
       "1959-04-01    290.1\n",
       "1959-05-01    292.2\n",
       "dtype: float64"
      ]
     },
     "execution_count": 40,
     "metadata": {},
     "output_type": "execute_result"
    }
   ],
   "source": [
    "# Define date range\n",
    "start_date = '2008-01-01'\n",
    "end_date = datetime.today().strftime('%Y-%m-%d')\n",
    "\n",
    "# Fetch ETH-USD data\n",
    "eth_df = yfinance_data('ETH-USD', start=start_date, end=end_date)\n",
    "eth_df.head(), eth_df.info()\n",
    "\n",
    "# Fetch BTC-USD data\n",
    "btc_df = yfinance_data('BTC-USD', start=start_date, end=end_date)\n",
    "btc_df.head(), btc_df.info()\n",
    "\n",
    "# Fetch S&P 500 data\n",
    "sp500_df = yfinance_data('^GSPC', start=start_date, end=end_date)\n",
    "sp500_df.head(), sp500_df.info()\n",
    "\n",
    "# Fetch M2 Money Supply data from FRED\n",
    "m2_series = fred_data('M2SL')\n",
    "m2_series.head()  # Inspect the first few rows of the M2 data\n"
   ]
  },
  {
   "cell_type": "code",
   "execution_count": 41,
   "metadata": {},
   "outputs": [
    {
     "name": "stdout",
     "output_type": "stream",
     "text": [
      "<class 'pandas.core.frame.DataFrame'>\n",
      "DatetimeIndex: 198 entries, 2008-01-01 to 2024-06-01\n",
      "Data columns (total 1 columns):\n",
      " #   Column  Non-Null Count  Dtype  \n",
      "---  ------  --------------  -----  \n",
      " 0   M2      198 non-null    float64\n",
      "dtypes: float64(1)\n",
      "memory usage: 3.1 KB\n",
      "<class 'pandas.core.frame.DataFrame'>\n",
      "DatetimeIndex: 200 entries, 2008-01-31 to 2024-08-31\n",
      "Freq: ME\n",
      "Data columns (total 6 columns):\n",
      " #   Column     Non-Null Count  Dtype  \n",
      "---  ------     --------------  -----  \n",
      " 0   Open       200 non-null    float64\n",
      " 1   High       200 non-null    float64\n",
      " 2   Low        200 non-null    float64\n",
      " 3   Close      200 non-null    float64\n",
      " 4   Adj Close  200 non-null    float64\n",
      " 5   Volume     200 non-null    int64  \n",
      "dtypes: float64(5), int64(1)\n",
      "memory usage: 10.9 KB\n"
     ]
    },
    {
     "data": {
      "text/plain": [
       "(                   Open         High          Low        Close    Adj Close  \\\n",
       " Date                                                                          \n",
       " 2008-01-31  1351.979980  1385.619995  1334.079956  1378.550049  1378.550049   \n",
       " 2008-02-29  1364.069946  1364.069946  1325.420044  1330.630005  1330.630005   \n",
       " 2008-03-31  1315.920044  1328.520020  1312.810059  1322.699951  1322.699951   \n",
       " 2008-04-30  1391.219971  1404.569946  1384.250000  1385.589966  1385.589966   \n",
       " 2008-05-31  1398.359985  1404.459961  1398.079956  1400.380005  1400.380005   \n",
       " \n",
       "                 Volume  \n",
       " Date                    \n",
       " 2008-01-31  4970290000  \n",
       " 2008-02-29  4426730000  \n",
       " 2008-03-31  4188990000  \n",
       " 2008-04-30  4508890000  \n",
       " 2008-05-31  3845630000  ,\n",
       " None)"
      ]
     },
     "execution_count": 41,
     "metadata": {},
     "output_type": "execute_result"
    }
   ],
   "source": [
    "# Convert M2 Series to DataFrame and align with S&P 500\n",
    "m2_df = pd.DataFrame(m2_series, columns=['M2'])\n",
    "m2_df.index = pd.to_datetime(m2_df.index)  # Ensure the index is in datetime format\n",
    "m2_df = m2_df.loc[start_date:end_date]  # Filter M2 data to match the date range\n",
    "m2_df['M2'] = m2_df['M2'] / 1e9  # Convert to billions\n",
    "\n",
    "# Inspect the M2 data after transformation\n",
    "m2_df.head(), m2_df.info()\n",
    "\n",
    "# Resample S&P 500 data to match the monthly frequency of M2 data\n",
    "sp500_df = sp500_df.resample('ME').last()  # Resample to monthly frequency using the last value of each month\n",
    "sp500_df['Close'] = pd.to_numeric(sp500_df['Close'], errors='coerce')\n",
    "\n",
    "# Inspect the S&P 500 data after resampling\n",
    "sp500_df.head(), sp500_df.info()\n"
   ]
  },
  {
   "cell_type": "code",
   "execution_count": 42,
   "metadata": {},
   "outputs": [
    {
     "name": "stdout",
     "output_type": "stream",
     "text": [
      "<class 'pandas.core.frame.DataFrame'>\n",
      "DatetimeIndex: 398 entries, 2008-01-01 to 2024-08-31\n",
      "Data columns (total 2 columns):\n",
      " #   Column         Non-Null Count  Dtype  \n",
      "---  ------         --------------  -----  \n",
      " 0   M2 (Billions)  198 non-null    float64\n",
      " 1   S&P 500        200 non-null    float64\n",
      "dtypes: float64(2)\n",
      "memory usage: 9.3 KB\n"
     ]
    },
    {
     "data": {
      "text/plain": [
       "(            M2 (Billions)      S&P 500\n",
       " 2008-01-01       0.000008          NaN\n",
       " 2008-01-31            NaN  1378.550049\n",
       " 2008-02-01       0.000008          NaN\n",
       " 2008-02-29            NaN  1330.630005\n",
       " 2008-03-01       0.000008          NaN,\n",
       " None)"
      ]
     },
     "execution_count": 42,
     "metadata": {},
     "output_type": "execute_result"
    }
   ],
   "source": [
    "# Merge M2 and S&P 500 data\n",
    "m2_sp500_df = pd.concat([m2_df, sp500_df['Close']], axis=1)\n",
    "m2_sp500_df.columns = ['M2 (Billions)', 'S&P 500']  # Flatten columns and label appropriately\n",
    "\n",
    "# Inspect the merged DataFrame\n",
    "m2_sp500_df.head(), m2_sp500_df.info()\n"
   ]
  }
 ],
 "metadata": {
  "kernelspec": {
   "display_name": "Python 3",
   "language": "python",
   "name": "python3"
  },
  "language_info": {
   "codemirror_mode": {
    "name": "ipython",
    "version": 3
   },
   "file_extension": ".py",
   "mimetype": "text/x-python",
   "name": "python",
   "nbconvert_exporter": "python",
   "pygments_lexer": "ipython3",
   "version": "3.12.4"
  }
 },
 "nbformat": 4,
 "nbformat_minor": 2
}
